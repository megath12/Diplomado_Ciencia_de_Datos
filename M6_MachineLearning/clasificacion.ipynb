{
 "cells": [
  {
   "cell_type": "markdown",
   "id": "2345884a",
   "metadata": {},
   "source": [
    "## Clasificación "
   ]
  },
  {
   "cell_type": "markdown",
   "id": "0d4c1397",
   "metadata": {},
   "source": [
    "\n",
    "Clasificar  estudiantes: con necesidades especiales(2) regulares(1) utilizando caracteristicas como: edad, grado y calificacion. Esto permitira definir si un alumno debe recibir atencion especial\n",
    "\n"
   ]
  },
  {
   "cell_type": "code",
   "execution_count": 1,
   "id": "eb547758",
   "metadata": {},
   "outputs": [],
   "source": [
    "import pandas as pd\n",
    "\n",
    "import numpy as np\n",
    "\n",
    "import matplotlib.pyplot as plt\n",
    "\n",
    "from sklearn.model_selection import train_test_split\n",
    "from sklearn.preprocessing import StandardScaler\n",
    "from sklearn.discriminant_analysis import LinearDiscriminantAnalysis as LDA\n"
   ]
  }
 ],
 "metadata": {
  "kernelspec": {
   "display_name": "Python 3 (ipykernel)",
   "language": "python",
   "name": "python3"
  },
  "language_info": {
   "codemirror_mode": {
    "name": "ipython",
    "version": 3
   },
   "file_extension": ".py",
   "mimetype": "text/x-python",
   "name": "python",
   "nbconvert_exporter": "python",
   "pygments_lexer": "ipython3",
   "version": "3.11.0"
  }
 },
 "nbformat": 4,
 "nbformat_minor": 5
}

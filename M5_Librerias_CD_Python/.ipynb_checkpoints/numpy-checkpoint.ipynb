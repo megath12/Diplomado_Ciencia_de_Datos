{
 "cells": [
  {
   "cell_type": "code",
   "execution_count": 2,
   "id": "82bbe2db",
   "metadata": {},
   "outputs": [
    {
     "name": "stdout",
     "output_type": "stream",
     "text": [
      "['j' 'a' 'g' 'u' 'a' 'r']\n"
     ]
    }
   ],
   "source": [
    "import numpy as np\n",
    "\n",
    "ar=np.array([\"j\",\"a\",\"g\",\"u\",\"a\",\"r\"])\n",
    "print(ar)"
   ]
  },
  {
   "cell_type": "code",
   "execution_count": 3,
   "id": "53c620ec",
   "metadata": {},
   "outputs": [
    {
     "name": "stdout",
     "output_type": "stream",
     "text": [
      "[[1 2 3]\n",
      " [4 5 6]]\n"
     ]
    }
   ],
   "source": [
    "a1=np.array([[1,2,3],[4,5,6]])      #arreglo de 2 dimensiones\n",
    "print(a1)"
   ]
  },
  {
   "cell_type": "code",
   "execution_count": 4,
   "id": "824551e6",
   "metadata": {},
   "outputs": [
    {
     "name": "stdout",
     "output_type": "stream",
     "text": [
      "[[[ 1  2  3]\n",
      "  [ 4  5  6]]\n",
      "\n",
      " [[12  1  9]\n",
      "  [ 0  8  7]]]\n"
     ]
    }
   ],
   "source": [
    "a2=np.array([[[1,2,3],[4,5,6]],[[12,1,9],[0,8,7]]])      #arreglo de 3 dimensiones\n",
    "print(a2)"
   ]
  },
  {
   "cell_type": "code",
   "execution_count": 5,
   "id": "6243eeec",
   "metadata": {},
   "outputs": [
    {
     "name": "stdout",
     "output_type": "stream",
     "text": [
      "g\n",
      "3\n",
      "8\n"
     ]
    }
   ],
   "source": [
    "print(ar[2])                 #acceso mediante indices 1D\n",
    "print(a1[0][2])               #acceso mediante indices 2D\n",
    "print(a2[1][1][1])               #acceso mediante indices 3D"
   ]
  },
  {
   "cell_type": "code",
   "execution_count": 6,
   "id": "8a7977ff",
   "metadata": {},
   "outputs": [
    {
     "name": "stdout",
     "output_type": "stream",
     "text": [
      "[1 2 3]\n",
      "['j' 'g' 'a']\n"
     ]
    }
   ],
   "source": [
    "print(a1[0][:])                 #slicing de arreglo\n",
    "print(ar[::2])                  # [inicio : final: salto]"
   ]
  },
  {
   "cell_type": "code",
   "execution_count": 8,
   "id": "a38df00c",
   "metadata": {},
   "outputs": [
    {
     "name": "stdout",
     "output_type": "stream",
     "text": [
      "(2, 2, 3)\n"
     ]
    }
   ],
   "source": [
    "print(a2.shape)           #dimensiones arreglos, filas, columnas"
   ]
  },
  {
   "cell_type": "code",
   "execution_count": 47,
   "id": "722d7df8",
   "metadata": {},
   "outputs": [
    {
     "name": "stdout",
     "output_type": "stream",
     "text": [
      "[11 42 33  4 35  6  7 28  9 10 11 13  3 31 10]\n",
      " \n",
      "[[11 42 33  4 35]\n",
      " [ 6  7 28  9 10]\n",
      " [11 13  3 31 10]]\n"
     ]
    }
   ],
   "source": [
    "dk=np.array([11,42,33,4,35,6,7,28,9,10,11,13,3,31,10])\n",
    "print(dk)\n",
    "print(\" \")\n",
    "dk2=dk.reshape(3,5)          #cambia la forma de un arreglo unidimensional\n",
    "print(dk2)"
   ]
  },
  {
   "cell_type": "code",
   "execution_count": 56,
   "id": "6e93f4f5",
   "metadata": {},
   "outputs": [
    {
     "name": "stdout",
     "output_type": "stream",
     "text": [
      "0 0   11\n",
      "0 1   42\n",
      "0 2   33\n",
      "0 3   4\n",
      "0 4   35\n",
      "1 0   6\n",
      "1 1   7\n",
      "1 2   28\n",
      "1 3   9\n",
      "1 4   10\n",
      "2 0   11\n",
      "2 1   13\n",
      "2 2   3\n",
      "2 3   31\n",
      "2 4   10\n"
     ]
    }
   ],
   "source": [
    "for i in range(dk2.shape[0]):            #iteracion en el array\n",
    "    #print(i)\n",
    "    for j in range(dk2.shape[1]):\n",
    "        print(i,j,\" \",dk2[i][j])"
   ]
  },
  {
   "cell_type": "code",
   "execution_count": 65,
   "id": "21885d2c",
   "metadata": {},
   "outputs": [
    {
     "name": "stdout",
     "output_type": "stream",
     "text": [
      "[[11 42 33  4 35]\n",
      " [ 6  7 28  9 10]\n",
      " [11 13  3 31 10]]\n",
      "\n",
      "[ 3  4  6  7  9 10 10 11 11 13 28 31 33 35 42]\n",
      "Columnas \n",
      "[[ 6  7  3  4 10]\n",
      " [11 13 28  9 10]\n",
      " [11 42 33 31 35]]\n",
      "Filas\n",
      "[[ 4 11 33 35 42]\n",
      " [ 6  7  9 10 28]\n",
      " [ 3 10 11 13 31]]\n"
     ]
    }
   ],
   "source": [
    "print(dk2)\n",
    "print(\"\")\n",
    "dk3=np.sort(dk2,axis=None)       #Ordenar el arreglo\n",
    "print(dk3)\n",
    "dk4=np.sort(dk2,axis=0)          #Ordenar por columas\n",
    "print(\"Columnas \")\n",
    "print(dk4)\n",
    "dk5=np.sort(dk2,axis=1)          #Ordenar por filas\n",
    "print(\"Filas\")\n",
    "print(dk5)"
   ]
  },
  {
   "cell_type": "code",
   "execution_count": 73,
   "id": "6b613224",
   "metadata": {},
   "outputs": [
    {
     "name": "stdout",
     "output_type": "stream",
     "text": [
      "[[5 5 5]\n",
      " [5 5 5]\n",
      " [5 5 5]]\n",
      "[[5. 5. 5.]\n",
      " [5. 5. 5.]\n",
      " [5. 5. 5.]]\n",
      "[[0. 0. 0.]\n",
      " [0. 0. 0.]\n",
      " [0. 0. 0.]]\n"
     ]
    }
   ],
   "source": [
    "mn=np.full((3,3),5);          #Generando una matriz\n",
    "print(mn)\n",
    "\n",
    "mb=np.ones((3,3))*5           #Generando una matriz de unos\n",
    "print(mb)\n",
    "\n",
    "mv=np.zeros((3,3))            #Generando una matriz de ceros\n",
    "print(mv)"
   ]
  },
  {
   "cell_type": "code",
   "execution_count": 80,
   "id": "02375810",
   "metadata": {},
   "outputs": [
    {
     "name": "stdout",
     "output_type": "stream",
     "text": [
      "[[5. 5. 5.]\n",
      " [5. 5. 5.]\n",
      " [5. 5. 5.]]\n",
      "[[1, 2, 3], [4, 5, 6], [7, 8, 9]]\n",
      "[[60. 75. 90.]\n",
      " [60. 75. 90.]\n",
      " [60. 75. 90.]]\n"
     ]
    }
   ],
   "source": [
    "mg=[[1,2,3],\n",
    "    [4,5,6],\n",
    "    [7,8,9]]\n",
    "print(mb)\n",
    "print(mg)\n",
    "mamu=np.matmul(mb,mg)       # Multiplicacion de matrices\n",
    "print(mamu)"
   ]
  },
  {
   "cell_type": "code",
   "execution_count": 81,
   "id": "b3fe3b02",
   "metadata": {},
   "outputs": [
    {
     "name": "stdout",
     "output_type": "stream",
     "text": [
      "[[2 2 6 1]\n",
      " [3 9 6 1]\n",
      " [0 1 9 0]\n",
      " [0 9 3 4]]\n"
     ]
    }
   ],
   "source": [
    "np.random.seed(123)                                #Se establece una semilla aleatoria\n",
    "mat=np.random.randint(0,10,size=(4,4))             #Una matriz aleatoria\n",
    "print(mat)\n"
   ]
  },
  {
   "cell_type": "code",
   "execution_count": 7,
   "id": "6c0edbdc",
   "metadata": {},
   "outputs": [
    {
     "name": "stdout",
     "output_type": "stream",
     "text": [
      "[[6 6 6 6 6 6 6 6 6 6]\n",
      " [6 6 6 6 6 6 6 6 6 6]\n",
      " [6 6 6 6 6 6 6 6 6 6]\n",
      " [6 6 6 6 6 6 6 6 6 6]\n",
      " [6 6 6 6 6 6 6 6 6 6]\n",
      " [6 6 6 6 6 6 6 6 6 6]\n",
      " [6 6 6 6 6 6 6 6 6 6]\n",
      " [6 6 6 6 6 6 6 6 6 6]\n",
      " [6 6 6 6 6 6 6 6 6 6]\n",
      " [6 6 6 6 6 6 6 6 6 6]]\n",
      "\n",
      "[[6 0 6 0 6 0 6 0 6 0]\n",
      " [0 6 0 6 0 6 0 6 0 6]\n",
      " [6 0 6 0 6 0 6 0 6 0]\n",
      " [0 6 0 6 0 6 0 6 0 6]\n",
      " [6 0 6 0 6 0 6 0 6 0]\n",
      " [0 6 0 6 0 6 0 6 0 6]\n",
      " [6 0 6 0 6 0 6 0 6 0]\n",
      " [0 6 0 6 0 6 0 6 0 6]\n",
      " [6 0 6 0 6 0 6 0 6 0]\n",
      " [0 6 0 6 0 6 0 6 0 6]]\n"
     ]
    }
   ],
   "source": [
    "mt=np.full((10,10),6)\n",
    "print(mt)\n",
    "\n",
    "mt[::2, 1::2]=0\n",
    "mt[1::2, ::2]=0\n",
    "print(\"\")\n",
    "print(mt)"
   ]
  }
 ],
 "metadata": {
  "kernelspec": {
   "display_name": "Python 3 (ipykernel)",
   "language": "python",
   "name": "python3"
  },
  "language_info": {
   "codemirror_mode": {
    "name": "ipython",
    "version": 3
   },
   "file_extension": ".py",
   "mimetype": "text/x-python",
   "name": "python",
   "nbconvert_exporter": "python",
   "pygments_lexer": "ipython3",
   "version": "3.11.0"
  }
 },
 "nbformat": 4,
 "nbformat_minor": 5
}

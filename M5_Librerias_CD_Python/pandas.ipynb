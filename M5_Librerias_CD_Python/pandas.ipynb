{
 "cells": [
  {
   "cell_type": "code",
   "execution_count": 2,
   "id": "7b03c579",
   "metadata": {},
   "outputs": [
    {
     "name": "stdout",
     "output_type": "stream",
     "text": [
      "     meses dias\n",
      "0    enero   31\n",
      "1  febrero   28\n",
      "2    marzo   31\n",
      "3    abril   30\n",
      "\n",
      "enero      31\n",
      "febrero    28\n",
      "marzo      31\n",
      "abril      30\n",
      "dtype: object\n"
     ]
    }
   ],
   "source": [
    "import pandas as pd\n",
    "datos={\n",
    "    'meses':[\"enero\", \"febrero\", \"marzo\",\"abril\"],\n",
    "    'dias':[\"31\",\"28\",\"31\",\"30\"]\n",
    "}\n",
    "\n",
    "res1=pd.DataFrame(datos);       #DATAFRAME\n",
    "print(res1)\n",
    "print(\"\")\n",
    "\n",
    "dias=[\"31\",\"28\",\"31\",\"30\"];     #SERIES \n",
    "res2=pd.Series(dias,index=[\"enero\", \"febrero\", \"marzo\",\"abril\"])\n",
    "print(res2)"
   ]
  },
  {
   "cell_type": "code",
   "execution_count": 3,
   "id": "ba34be2a",
   "metadata": {
    "scrolled": false
   },
   "outputs": [
    {
     "name": "stdout",
     "output_type": "stream",
     "text": [
      "           Mes  Días\n",
      "0        Enero    31\n",
      "1      Febrero    28\n",
      "2        Marzo    31\n",
      "3        Abril    30\n",
      "4         Mayo    31\n",
      "5        Junio    30\n",
      "6        Julio    31\n",
      "7       Agosto    31\n",
      "8   Septiembre    30\n",
      "9      Octubre    31\n",
      "10   Noviembre    30\n",
      "11   Diciembre    31\n"
     ]
    }
   ],
   "source": [
    "import pandas as pd\n",
    "\n",
    "tf=pd.read_csv('meses.csv', encoding='latin-1');      #importar CSV\n",
    "print(tf);"
   ]
  },
  {
   "cell_type": "code",
   "execution_count": 4,
   "id": "d7c574f2",
   "metadata": {},
   "outputs": [
    {
     "name": "stdout",
     "output_type": "stream",
     "text": [
      "       Mes  Días\n",
      "0    Enero    31\n",
      "1  Febrero    28\n",
      "2    Marzo    31\n",
      "\n",
      "          Mes  Días\n",
      "9     Octubre    31\n",
      "10  Noviembre    30\n",
      "11  Diciembre    31\n"
     ]
    }
   ],
   "source": [
    "print(tf.head(3))                 #primero y ultimos 3 filas\n",
    "print(\"\")\n",
    "print(tf.tail(3))"
   ]
  },
  {
   "cell_type": "code",
   "execution_count": 5,
   "id": "30d5c0aa",
   "metadata": {},
   "outputs": [
    {
     "name": "stdout",
     "output_type": "stream",
     "text": [
      "<class 'pandas.core.frame.DataFrame'>\n",
      "RangeIndex: 12 entries, 0 to 11\n",
      "Data columns (total 2 columns):\n",
      " #   Column  Non-Null Count  Dtype \n",
      "---  ------  --------------  ----- \n",
      " 0   Mes     12 non-null     object\n",
      " 1   Días    12 non-null     int64 \n",
      "dtypes: int64(1), object(1)\n",
      "memory usage: 320.0+ bytes\n",
      "None\n"
     ]
    }
   ],
   "source": [
    "print(tf.info())                             #informacion general"
   ]
  },
  {
   "cell_type": "code",
   "execution_count": 6,
   "id": "2ce0d793",
   "metadata": {},
   "outputs": [
    {
     "name": "stdout",
     "output_type": "stream",
     "text": [
      "           Mes  Dias\n",
      "0        Enero  31.0\n",
      "1      Febrero  28.0\n",
      "2        Marzo  31.0\n",
      "3          NaN  30.0\n",
      "4         Mayo  31.0\n",
      "5        Junio  30.0\n",
      "6        Julio   NaN\n",
      "7          NaN  31.0\n",
      "8   Septiembre  30.0\n",
      "9      Octubre  31.0\n",
      "10   Noviembre   NaN\n",
      "11   Diciembre  31.0\n",
      "  \n",
      "           Mes  Dias\n",
      "0        Enero  31.0\n",
      "1      Febrero  28.0\n",
      "2        Marzo  31.0\n",
      "4         Mayo  31.0\n",
      "5        Junio  30.0\n",
      "8   Septiembre  30.0\n",
      "9      Octubre  31.0\n",
      "11   Diciembre  31.0\n"
     ]
    }
   ],
   "source": [
    "ds2=pd.read_csv(\"meses2.csv\")\n",
    "print(ds2)\n",
    "print(\"  \")\n",
    "ds3=ds2.dropna();  #quitar las filas con elementos NaN (Not a number)\n",
    "print(ds3)"
   ]
  },
  {
   "cell_type": "code",
   "execution_count": 7,
   "id": "db0d846a",
   "metadata": {},
   "outputs": [
    {
     "name": "stdout",
     "output_type": "stream",
     "text": [
      "           Mes  Dias\n",
      "0        Enero  31.0\n",
      "1      Febrero  28.0\n",
      "2        Marzo  31.0\n",
      "3          NaN  30.0\n",
      "4         Mayo  31.0\n",
      "5        Junio  30.0\n",
      "6        Julio   NaN\n",
      "7          NaN  31.0\n",
      "8   Septiembre  30.0\n",
      "9      Octubre  31.0\n",
      "10   Noviembre   NaN\n",
      "11   Diciembre  31.0\n",
      "  \n",
      "           Mes  Dias\n",
      "0        Enero  31.0\n",
      "1      Febrero  28.0\n",
      "2        Marzo  31.0\n",
      "3          NaN  30.0\n",
      "4         Mayo  31.0\n",
      "5        Junio  30.0\n",
      "6        Julio  30.5\n",
      "7          NaN  31.0\n",
      "8   Septiembre  30.0\n",
      "9      Octubre  31.0\n",
      "10   Noviembre  30.5\n",
      "11   Diciembre  31.0\n",
      "\n"
     ]
    },
    {
     "name": "stderr",
     "output_type": "stream",
     "text": [
      "C:\\Users\\megat\\AppData\\Local\\Temp\\ipykernel_12040\\3233191923.py:4: FutureWarning: A value is trying to be set on a copy of a DataFrame or Series through chained assignment using an inplace method.\n",
      "The behavior will change in pandas 3.0. This inplace method will never work because the intermediate object on which we are setting values always behaves as a copy.\n",
      "\n",
      "For example, when doing 'df[col].method(value, inplace=True)', try using 'df.method({col: value}, inplace=True)' or df[col] = df[col].method(value) instead, to perform the operation inplace on the original object.\n",
      "\n",
      "\n",
      "  ds4[\"Dias\"].fillna(30.5, inplace=True)   #remplazar datos NaN\n"
     ]
    }
   ],
   "source": [
    "print(ds2)\n",
    "print(\"  \")\n",
    "ds4=ds2;\n",
    "ds4[\"Dias\"].fillna(30.5, inplace=True)   #remplazar datos NaN\n",
    "print(ds4)\n",
    "print(\"\")"
   ]
  },
  {
   "cell_type": "code",
   "execution_count": 8,
   "id": "ee52122c",
   "metadata": {},
   "outputs": [
    {
     "name": "stdout",
     "output_type": "stream",
     "text": [
      "           Mes  Dias\n",
      "0        Enero  31.0\n",
      "1      Febrero  28.0\n",
      "2        Marzo  31.0\n",
      "3          MES  30.0\n",
      "4         Mayo  31.0\n",
      "5        Junio  30.0\n",
      "6        Julio  30.5\n",
      "7          MES  31.0\n",
      "8   Septiembre  30.0\n",
      "9      Octubre  31.0\n",
      "10   Noviembre  30.5\n",
      "11   Diciembre  31.0\n"
     ]
    }
   ],
   "source": [
    "ds5=ds2;\n",
    "ds5.fillna({\"Mes\":\"MES\"}, inplace=True)       #remplazar datos NaN\n",
    "print(ds5)"
   ]
  },
  {
   "cell_type": "code",
   "execution_count": 16,
   "id": "2d9bc04d",
   "metadata": {},
   "outputs": [
    {
     "name": "stdout",
     "output_type": "stream",
     "text": [
      "           Mes  Dias\n",
      "0        Enero  31.0\n",
      "1      Febrero  28.0\n",
      "2        Marzo  31.0\n",
      "3          NaN  30.0\n",
      "4         Mayo  31.0\n",
      "5        Junio  30.0\n",
      "6        Julio   NaN\n",
      "7          NaN  31.0\n",
      "8   Septiembre  30.0\n",
      "9      Octubre  31.0\n",
      "10   Noviembre   NaN\n",
      "11   Diciembre  31.0\n",
      "\n",
      "           Mes  Dias\n",
      "0        Enero  31.0\n",
      "1      Febrero  28.0\n",
      "2        Marzo  31.0\n",
      "3          NaN  30.0\n",
      "4         Mayo  31.0\n",
      "5        Junio  30.0\n",
      "6        Julio  30.4\n",
      "7          NaN  31.0\n",
      "8   Septiembre  30.0\n",
      "9      Octubre  31.0\n",
      "10   Noviembre  30.4\n",
      "11   Diciembre  31.0\n"
     ]
    }
   ],
   "source": [
    "es=pd.read_csv('meses3.csv');   \n",
    "print(es)\n",
    "print(\"\")\n",
    "prom=es[\"Dias\"].mean();\n",
    "#print(prom)\n",
    "es.fillna({\"Dias\":prom}, inplace=True)  #Remplazar pero ahora con el promedio\n",
    "print(es)"
   ]
  },
  {
   "cell_type": "code",
   "execution_count": 22,
   "id": "dd15f85e",
   "metadata": {},
   "outputs": [
    {
     "name": "stdout",
     "output_type": "stream",
     "text": [
      "           Mes  Dias\n",
      "0        Enero  31.0\n",
      "1      Febrero  32.0\n",
      "2        Marzo  31.0\n",
      "3          NaN  30.0\n",
      "4         Mayo  31.0\n",
      "5        Junio  30.0\n",
      "6        Julio  30.4\n",
      "7          NaN  31.0\n",
      "8   Septiembre  30.0\n",
      "9      Octubre  31.0\n",
      "10   Noviembre  30.4\n",
      "11   Diciembre  31.0\n"
     ]
    }
   ],
   "source": [
    "for x in es.index:\n",
    "    #print(x)\n",
    "    if es.loc[x,\"Dias\"]<30:      #.loc selecciona datos de un DataFrame(fila,columna)  \n",
    "        es.loc[x,\"Dias\"]=32       #Limpir datos erroneos\n",
    "print(es)\n"
   ]
  },
  {
   "cell_type": "code",
   "execution_count": 27,
   "id": "8ee58e1d",
   "metadata": {},
   "outputs": [
    {
     "data": {
      "image/png": "[encoded data removed]",
      "text/plain": [
       "<Figure size 640x480 with 1 Axes>"
      ]
     },
     "metadata": {},
     "output_type": "display_data"
    }
   ],
   "source": [
    "import matplotlib.pyplot as plt\n",
    "es.plot()\n",
    "plt.show()"
   ]
  }
 ],
 "metadata": {
  "kernelspec": {
   "display_name": "Python 3 (ipykernel)",
   "language": "python",
   "name": "python3"
  },
  "language_info": {
   "codemirror_mode": {
    "name": "ipython",
    "version": 3
   },
   "file_extension": ".py",
   "mimetype": "text/x-python",
   "name": "python",
   "nbconvert_exporter": "python",
   "pygments_lexer": "ipython3",
   "version": "3.11.0"
  }
 },
 "nbformat": 4,
 "nbformat_minor": 5
}
